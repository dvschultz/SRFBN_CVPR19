{
  "nbformat": 4,
  "nbformat_minor": 0,
  "metadata": {
    "colab": {
      "name": "SRFBN.ipynb",
      "provenance": [],
      "collapsed_sections": [],
      "include_colab_link": true
    },
    "kernelspec": {
      "name": "python3",
      "display_name": "Python 3"
    },
    "accelerator": "GPU"
  },
  "cells": [
    {
      "cell_type": "markdown",
      "metadata": {
        "id": "view-in-github",
        "colab_type": "text"
      },
      "source": [
        "<a href=\"https://colab.research.google.com/github/dvschultz/SRFBN_CVPR19/blob/master/SRFBN.ipynb\" target=\"_parent\"><img src=\"https://colab.research.google.com/assets/colab-badge.svg\" alt=\"Open In Colab\"/></a>"
      ]
    },
    {
      "cell_type": "code",
      "metadata": {
        "id": "00vHv1--Dd0_",
        "colab_type": "code",
        "outputId": "9fe4c731-1dcf-46d3-e403-40f3bb4c5530",
        "colab": {
          "base_uri": "https://localhost:8080/",
          "height": 357
        }
      },
      "source": [
        "!git clone https://github.com/dvschultz/SRFBN_CVPR19\n",
        "%cd SRFBN_CVPR19/models\n",
        "!gdown --id 1Dsb_-OH0CeSJVjvP9A4bh2_IBQh9R-ja\n",
        "!unzip SRFBN_CVPR19_Models.zip\n",
        "#!gdown --id 1NYIS0zPrpSO5fv1xpN1hH6qX4lBYxIW5\n",
        "#!unzip SRFBN-S_CVPR19_Models.zip\n",
        "#!rm /content/SRFBN_CVPR19/models/SRFBN-S_CVPR19_Models.zip\n",
        "!rm /content/SRFBN_CVPR19/models/SRFBN_CVPR19_Models.zip\n",
        "%cd ../\n",
        "!mv /content/SRFBN_CVPR19/models/SRFBN_CVPR19_Models/*.pth /content/SRFBN_CVPR19/models/\n",
        "!rmdir /content/SRFBN_CVPR19/models/SRFBN_CVPR19_Models\n",
        "rm /content/SRFBN_CVPR19/results/LR/MyImage/*.png"
      ],
      "execution_count": 1,
      "outputs": [
        {
          "output_type": "stream",
          "text": [
            "Cloning into 'SRFBN_CVPR19'...\n",
            "remote: Enumerating objects: 81, done.\u001b[K\n",
            "remote: Counting objects: 100% (81/81), done.\u001b[K\n",
            "remote: Compressing objects: 100% (65/65), done.\u001b[K\n",
            "remote: Total 293 (delta 33), reused 12 (delta 4), pack-reused 212\u001b[K\n",
            "Receiving objects: 100% (293/293), 3.53 MiB | 33.80 MiB/s, done.\n",
            "Resolving deltas: 100% (103/103), done.\n",
            "/content/SRFBN_CVPR19/models\n",
            "Downloading...\n",
            "From: https://drive.google.com/uc?id=1Dsb_-OH0CeSJVjvP9A4bh2_IBQh9R-ja\n",
            "To: /content/SRFBN_CVPR19/models/SRFBN_CVPR19_Models.zip\n",
            "52.9MB [00:00, 145MB/s] \n",
            "Archive:  SRFBN_CVPR19_Models.zip\n",
            "   creating: SRFBN_CVPR19_Models/\n",
            "  inflating: SRFBN_CVPR19_Models/SRFBN_x2_BI.pth  \n",
            "  inflating: SRFBN_CVPR19_Models/SRFBN_x3_DN.pth  \n",
            "  inflating: SRFBN_CVPR19_Models/SRFBN_x3_BD.pth  \n",
            "  inflating: SRFBN_CVPR19_Models/SRFBN_x3_BI.pth  \n",
            "  inflating: SRFBN_CVPR19_Models/SRFBN_x4_BI.pth  \n",
            "/content/SRFBN_CVPR19\n"
          ],
          "name": "stdout"
        }
      ]
    },
    {
      "cell_type": "code",
      "metadata": {
        "id": "uXJw4UhnTn4F",
        "colab_type": "code",
        "colab": {}
      },
      "source": [
        ""
      ],
      "execution_count": 0,
      "outputs": []
    },
    {
      "cell_type": "code",
      "metadata": {
        "id": "LvEOEUHVYB7z",
        "colab_type": "code",
        "outputId": "ddd288e9-77a4-4278-fe24-c5c70763f302",
        "colab": {
          "base_uri": "https://localhost:8080/",
          "height": 1000
        }
      },
      "source": [
        "!python test.py -opt options/test/test_SRFBN_LR_only_x2.json"
      ],
      "execution_count": 3,
      "outputs": [
        {
          "output_type": "stream",
          "text": [
            "===> Export CUDA_VISIBLE_DEVICES = [0]\n",
            "===> [LR] Dataset is created.\n",
            "===> Test Dataset: [MyImage]   Number of images: [27]\n",
            "===> Building network [SRFBN]...\n",
            "===> Loading model from [./models/SRFBN_x2_BI.pth]...\n",
            "==================================================\n",
            "===> Network Summary\n",
            "\n",
            "SRFBN(\n",
            "  (sub_mean): MeanShift(3, 3, kernel_size=(1, 1), stride=(1, 1))\n",
            "  (conv_in): Sequential(\n",
            "    (0): Conv2d(3, 256, kernel_size=(3, 3), stride=(1, 1), padding=(1, 1))\n",
            "    (1): PReLU(num_parameters=1)\n",
            "  )\n",
            "  (feat_in): Sequential(\n",
            "    (0): Conv2d(256, 64, kernel_size=(1, 1), stride=(1, 1))\n",
            "    (1): PReLU(num_parameters=1)\n",
            "  )\n",
            "  (block): FeedbackBlock(\n",
            "    (compress_in): Sequential(\n",
            "      (0): Conv2d(128, 64, kernel_size=(1, 1), stride=(1, 1))\n",
            "      (1): PReLU(num_parameters=1)\n",
            "    )\n",
            "    (upBlocks): ModuleList(\n",
            "      (0): Sequential(\n",
            "        (0): ConvTranspose2d(64, 64, kernel_size=(6, 6), stride=(2, 2), padding=(2, 2))\n",
            "        (1): PReLU(num_parameters=1)\n",
            "      )\n",
            "      (1): Sequential(\n",
            "        (0): ConvTranspose2d(64, 64, kernel_size=(6, 6), stride=(2, 2), padding=(2, 2))\n",
            "        (1): PReLU(num_parameters=1)\n",
            "      )\n",
            "      (2): Sequential(\n",
            "        (0): ConvTranspose2d(64, 64, kernel_size=(6, 6), stride=(2, 2), padding=(2, 2))\n",
            "        (1): PReLU(num_parameters=1)\n",
            "      )\n",
            "      (3): Sequential(\n",
            "        (0): ConvTranspose2d(64, 64, kernel_size=(6, 6), stride=(2, 2), padding=(2, 2))\n",
            "        (1): PReLU(num_parameters=1)\n",
            "      )\n",
            "      (4): Sequential(\n",
            "        (0): ConvTranspose2d(64, 64, kernel_size=(6, 6), stride=(2, 2), padding=(2, 2))\n",
            "        (1): PReLU(num_parameters=1)\n",
            "      )\n",
            "      (5): Sequential(\n",
            "        (0): ConvTranspose2d(64, 64, kernel_size=(6, 6), stride=(2, 2), padding=(2, 2))\n",
            "        (1): PReLU(num_parameters=1)\n",
            "      )\n",
            "    )\n",
            "    (downBlocks): ModuleList(\n",
            "      (0): Sequential(\n",
            "        (0): Conv2d(64, 64, kernel_size=(6, 6), stride=(2, 2), padding=(2, 2))\n",
            "        (1): PReLU(num_parameters=1)\n",
            "      )\n",
            "      (1): Sequential(\n",
            "        (0): Conv2d(64, 64, kernel_size=(6, 6), stride=(2, 2), padding=(2, 2))\n",
            "        (1): PReLU(num_parameters=1)\n",
            "      )\n",
            "      (2): Sequential(\n",
            "        (0): Conv2d(64, 64, kernel_size=(6, 6), stride=(2, 2), padding=(2, 2))\n",
            "        (1): PReLU(num_parameters=1)\n",
            "      )\n",
            "      (3): Sequential(\n",
            "        (0): Conv2d(64, 64, kernel_size=(6, 6), stride=(2, 2), padding=(2, 2))\n",
            "        (1): PReLU(num_parameters=1)\n",
            "      )\n",
            "      (4): Sequential(\n",
            "        (0): Conv2d(64, 64, kernel_size=(6, 6), stride=(2, 2), padding=(2, 2))\n",
            "        (1): PReLU(num_parameters=1)\n",
            "      )\n",
            "      (5): Sequential(\n",
            "        (0): Conv2d(64, 64, kernel_size=(6, 6), stride=(2, 2), padding=(2, 2))\n",
            "        (1): PReLU(num_parameters=1)\n",
            "      )\n",
            "    )\n",
            "    (uptranBlocks): ModuleList(\n",
            "      (0): Sequential(\n",
            "        (0): Conv2d(128, 64, kernel_size=(1, 1), stride=(1, 1))\n",
            "        (1): PReLU(num_parameters=1)\n",
            "      )\n",
            "      (1): Sequential(\n",
            "        (0): Conv2d(192, 64, kernel_size=(1, 1), stride=(1, 1))\n",
            "        (1): PReLU(num_parameters=1)\n",
            "      )\n",
            "      (2): Sequential(\n",
            "        (0): Conv2d(256, 64, kernel_size=(1, 1), stride=(1, 1))\n",
            "        (1): PReLU(num_parameters=1)\n",
            "      )\n",
            "      (3): Sequential(\n",
            "        (0): Conv2d(320, 64, kernel_size=(1, 1), stride=(1, 1))\n",
            "        (1): PReLU(num_parameters=1)\n",
            "      )\n",
            "      (4): Sequential(\n",
            "        (0): Conv2d(384, 64, kernel_size=(1, 1), stride=(1, 1))\n",
            "        (1): PReLU(num_parameters=1)\n",
            "      )\n",
            "    )\n",
            "    (downtranBlocks): ModuleList(\n",
            "      (0): Sequential(\n",
            "        (0): Conv2d(128, 64, kernel_size=(1, 1), stride=(1, 1))\n",
            "        (1): PReLU(num_parameters=1)\n",
            "      )\n",
            "      (1): Sequential(\n",
            "        (0): Conv2d(192, 64, kernel_size=(1, 1), stride=(1, 1))\n",
            "        (1): PReLU(num_parameters=1)\n",
            "      )\n",
            "      (2): Sequential(\n",
            "        (0): Conv2d(256, 64, kernel_size=(1, 1), stride=(1, 1))\n",
            "        (1): PReLU(num_parameters=1)\n",
            "      )\n",
            "      (3): Sequential(\n",
            "        (0): Conv2d(320, 64, kernel_size=(1, 1), stride=(1, 1))\n",
            "        (1): PReLU(num_parameters=1)\n",
            "      )\n",
            "      (4): Sequential(\n",
            "        (0): Conv2d(384, 64, kernel_size=(1, 1), stride=(1, 1))\n",
            "        (1): PReLU(num_parameters=1)\n",
            "      )\n",
            "    )\n",
            "    (compress_out): Sequential(\n",
            "      (0): Conv2d(384, 64, kernel_size=(1, 1), stride=(1, 1))\n",
            "      (1): PReLU(num_parameters=1)\n",
            "    )\n",
            "  )\n",
            "  (out): Sequential(\n",
            "    (0): ConvTranspose2d(64, 64, kernel_size=(6, 6), stride=(2, 2), padding=(2, 2))\n",
            "    (1): PReLU(num_parameters=1)\n",
            "  )\n",
            "  (conv_out): Sequential(\n",
            "    (0): Conv2d(64, 3, kernel_size=(3, 3), stride=(1, 1), padding=(1, 1))\n",
            "  )\n",
            "  (add_mean): MeanShift(3, 3, kernel_size=(1, 1), stride=(1, 1))\n",
            ")\n",
            "\n",
            "Network structure: [DataParallel - SRFBN], with parameters: [2,140,534]\n",
            "==================================================\n",
            "===> Solver Initialized : [SRSolver] || Use CL : [True] || Use GPU : [True]\n",
            "===> Start Test\n",
            "==================================================\n",
            "Method: SRFBN || Scale: 2 || Degradation: BI\n",
            "Test set : [MyImage]\n",
            "[1/27] BLUE_seed51347_x_seed1045.png || Timer: 18.5460 sec .\n",
            "[2/27] GREEN_seed51596_x_seed51595-floralmag.png || Timer: 18.6979 sec .\n",
            "[3/27] bbvday02.png || Timer: 19.0966 sec .\n",
            "[4/27] seed0011.png || Timer: 19.5125 sec .\n",
            "[5/27] seed0023.png || Timer: 19.9656 sec .\n",
            "[6/27] seed0110.png || Timer: 20.4304 sec .\n",
            "[7/27] seed0169.png || Timer: 20.7256 sec .\n",
            "[8/27] seed0170.png || Timer: 20.4875 sec .\n",
            "[9/27] seed0219-2.png || Timer: 20.3107 sec .\n",
            "[10/27] seed0219.png || Timer: 20.4167 sec .\n",
            "[11/27] seed0222.png || Timer: 20.5194 sec .\n",
            "[12/27] seed0241-2.png || Timer: 20.4861 sec .\n",
            "[13/27] seed0241.png || Timer: 20.4105 sec .\n",
            "[14/27] seed0245.png || Timer: 20.4444 sec .\n",
            "[15/27] seed0248.png || Timer: 20.4395 sec .\n",
            "[16/27] seed0263.png || Timer: 20.4578 sec .\n",
            "[17/27] seed0264.png || Timer: 20.4465 sec .\n",
            "[18/27] seed0266.png || Timer: 20.4795 sec .\n",
            "[19/27] seed1029.png || Timer: 20.4765 sec .\n",
            "[20/27] seed1029_x_seed1024.png || Timer: 20.4714 sec .\n",
            "[21/27] seed1370.png || Timer: 20.4830 sec .\n",
            "[22/27] seed1388.png || Timer: 20.4740 sec .\n",
            "[23/27] seed51489.png || Timer: 20.4521 sec .\n",
            "[24/27] seed51504.png || Timer: 20.4563 sec .\n",
            "[25/27] seed51519.png || Timer: 20.4626 sec .\n",
            "[26/27] seed51586.png || Timer: 20.4637 sec .\n",
            "[27/27] seed5587.png || Timer: 20.4020 sec .\n",
            "---- Average Speed(s) for [MyImage] is 20.2228 sec ----\n",
            "===> Saving SR images of [MyImage]... Save Path: [./results/SR/MyImage/SRFBN/x2]\n",
            "\n",
            "==================================================\n",
            "===> Finished !\n"
          ],
          "name": "stdout"
        }
      ]
    },
    {
      "cell_type": "code",
      "metadata": {
        "id": "v6rGBHIEe4s5",
        "colab_type": "code",
        "outputId": "c6ce1560-64f2-464a-afef-5bb1ea66f7fb",
        "colab": {
          "base_uri": "https://localhost:8080/",
          "height": 493
        }
      },
      "source": [
        "!zip -r saved-bbvday2020.zip /content/SRFBN_CVPR19/results/SR/MyImage/SRFBN/x2"
      ],
      "execution_count": 4,
      "outputs": [
        {
          "output_type": "stream",
          "text": [
            "  adding: content/SRFBN_CVPR19/results/SR/MyImage/SRFBN/x2/ (stored 0%)\n",
            "  adding: content/SRFBN_CVPR19/results/SR/MyImage/SRFBN/x2/seed5587.png (deflated 0%)\n",
            "  adding: content/SRFBN_CVPR19/results/SR/MyImage/SRFBN/x2/seed51504.png (deflated 1%)\n",
            "  adding: content/SRFBN_CVPR19/results/SR/MyImage/SRFBN/x2/seed0263.png (deflated 0%)\n",
            "  adding: content/SRFBN_CVPR19/results/SR/MyImage/SRFBN/x2/seed1388.png (deflated 0%)\n",
            "  adding: content/SRFBN_CVPR19/results/SR/MyImage/SRFBN/x2/seed0219-2.png (deflated 0%)\n",
            "  adding: content/SRFBN_CVPR19/results/SR/MyImage/SRFBN/x2/seed0023.png (deflated 0%)\n",
            "  adding: content/SRFBN_CVPR19/results/SR/MyImage/SRFBN/x2/seed51586.png (deflated 0%)\n",
            "  adding: content/SRFBN_CVPR19/results/SR/MyImage/SRFBN/x2/seed1029_x_seed1024.png (deflated 0%)\n",
            "  adding: content/SRFBN_CVPR19/results/SR/MyImage/SRFBN/x2/seed0219.png (deflated 0%)\n",
            "  adding: content/SRFBN_CVPR19/results/SR/MyImage/SRFBN/x2/seed0266.png (deflated 0%)\n",
            "  adding: content/SRFBN_CVPR19/results/SR/MyImage/SRFBN/x2/seed1029.png (deflated 0%)\n",
            "  adding: content/SRFBN_CVPR19/results/SR/MyImage/SRFBN/x2/seed0222.png (deflated 0%)\n",
            "  adding: content/SRFBN_CVPR19/results/SR/MyImage/SRFBN/x2/GREEN_seed51596_x_seed51595-floralmag.png (deflated 0%)\n",
            "  adding: content/SRFBN_CVPR19/results/SR/MyImage/SRFBN/x2/seed0245.png (deflated 0%)\n",
            "  adding: content/SRFBN_CVPR19/results/SR/MyImage/SRFBN/x2/seed51489.png (deflated 0%)\n",
            "  adding: content/SRFBN_CVPR19/results/SR/MyImage/SRFBN/x2/seed0110.png (deflated 0%)\n",
            "  adding: content/SRFBN_CVPR19/results/SR/MyImage/SRFBN/x2/seed0248.png (deflated 0%)\n",
            "  adding: content/SRFBN_CVPR19/results/SR/MyImage/SRFBN/x2/seed0241-2.png (deflated 0%)\n",
            "  adding: content/SRFBN_CVPR19/results/SR/MyImage/SRFBN/x2/seed1370.png (deflated 0%)\n",
            "  adding: content/SRFBN_CVPR19/results/SR/MyImage/SRFBN/x2/seed0170.png (deflated 0%)\n",
            "  adding: content/SRFBN_CVPR19/results/SR/MyImage/SRFBN/x2/seed0241.png (deflated 0%)\n",
            "  adding: content/SRFBN_CVPR19/results/SR/MyImage/SRFBN/x2/seed51519.png (deflated 0%)\n",
            "  adding: content/SRFBN_CVPR19/results/SR/MyImage/SRFBN/x2/seed0011.png (deflated 0%)\n",
            "  adding: content/SRFBN_CVPR19/results/SR/MyImage/SRFBN/x2/bbvday02.png (deflated 0%)\n",
            "  adding: content/SRFBN_CVPR19/results/SR/MyImage/SRFBN/x2/seed0169.png (deflated 0%)\n",
            "  adding: content/SRFBN_CVPR19/results/SR/MyImage/SRFBN/x2/BLUE_seed51347_x_seed1045.png (deflated 0%)\n",
            "  adding: content/SRFBN_CVPR19/results/SR/MyImage/SRFBN/x2/seed0264.png (deflated 0%)\n"
          ],
          "name": "stdout"
        }
      ]
    },
    {
      "cell_type": "code",
      "metadata": {
        "id": "Br-WZLt3xnSx",
        "colab_type": "code",
        "colab": {}
      },
      "source": [
        ""
      ],
      "execution_count": 0,
      "outputs": []
    }
  ]
}